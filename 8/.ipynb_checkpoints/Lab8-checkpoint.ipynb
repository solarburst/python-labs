{
 "cells": [
  {
   "cell_type": "markdown",
   "metadata": {},
   "source": [
    "1) Необходимо выбрать любой (интересный на ваш взгляд) набор данных, подходящий для решения задачи классификации (https://scikit-learn.org/stable/datasets/toy_dataset.html#toy-datasets, например diabet, wine, breast_cancer; https://archive.ics.uci.edu/ml/index.php - выбор большой, kaggle.com)\n",
    "\n",
    "2) Выбрать не менее 3-х алгоритмов классификации данных, обосновать выбор, обучить модели. \n",
    "\n",
    "3) Оценить качество классификации. Подход к оценке и метрики оценки выбрать самостоятельно, обосновать выбор.\n",
    "\n",
    "4) Проинтерпретировать полученный результат."
   ]
  },
  {
   "cell_type": "code",
   "execution_count": 6,
   "metadata": {},
   "outputs": [
    {
     "name": "stdout",
     "output_type": "stream",
     "text": [
      "Логистическая регрессия | Тестовая точность измерений: 0.7952193917629895\n",
      "Случайный лес | Тестовая точность измерений: 0.7443833464257659\n",
      "Метод k ближайших соседей | Тестовая точность измерений: 0.7600998765570643\n",
      "['no']\n"
     ]
    }
   ],
   "source": [
    "import numpy as np\n",
    "import pandas as pd\n",
    "from sklearn.model_selection import train_test_split, GridSearchCV, cross_val_score\n",
    "from sklearn.ensemble import RandomForestClassifier\n",
    "\n",
    "from sklearn.linear_model import LogisticRegression\n",
    "from sklearn.neighbors import KNeighborsClassifier\n",
    "\n",
    "data = pd.read_csv('insurance.csv')\n",
    "data.head()\n",
    "\n",
    "X = data.drop(['bmi','region','charges','smoker'], axis = 1)\n",
    "\n",
    "X['sex'].where(~(X.sex =='male'), other=float(0), inplace=True)\n",
    "X['sex'].where(~(X.sex =='female'), other=float(1), inplace=True)\n",
    "\n",
    "y = data[['smoker']]\n",
    "X_train, X_test, y_train, y_test = train_test_split(X, y,train_size = 0.8, random_state = 1)\n",
    "\n",
    "logreg_cv = LogisticRegression(random_state = 0)\n",
    "dt_cv = RandomForestClassifier()\n",
    "knn_cv = KNeighborsClassifier()\n",
    "\n",
    "\n",
    "cv_dict = {0: 'Логистическая регрессия', \n",
    "           1: 'Случайный лес', \n",
    "           2: 'Метод k ближайших соседей'}\n",
    "\n",
    "\n",
    "cv_models = [logreg_cv, dt_cv, knn_cv]\n",
    "           \n",
    "for i,model in enumerate(cv_models):\n",
    "    print(\"{} | Тестовая точность измерений: {}\".format(cv_dict[i], \n",
    "           cross_val_score(model, X, y.values.ravel(), cv = 10, scoring = 'accuracy').mean()))\n",
    "\n",
    "\n",
    "\n",
    "clf = RandomForestClassifier()\n",
    "parametrs = { 'n_estimators': range (10, 51, 10),\n",
    "              'max_depth': range (1,13, 2),\n",
    "              'min_samples_leaf': range (1,8),\n",
    "              'min_samples_split': range (2,10,2) }\n",
    "grid = GridSearchCV(clf, parametrs, cv=5)\n",
    "best_model = grid.fit(X_train, y_train.values.ravel())\n",
    "\n",
    "\n",
    "age = 25\n",
    "female = 0\n",
    "childrens = 1\n",
    "Test = np.array([[age,female,childrens]]) \n",
    "\n",
    "# Предсказываем курит ли человек\n",
    "prediction = best_model.predict(Test)\n",
    "print(prediction)\n"
   ]
  }
 ],
 "metadata": {
  "interpreter": {
   "hash": "3b6c1224657c578b9d3e2b49ca831d7f85bea0417468944a724420177cb04cf0"
  },
  "kernelspec": {
   "display_name": "Python 3 (ipykernel)",
   "language": "python",
   "name": "python3"
  },
  "language_info": {
   "codemirror_mode": {
    "name": "ipython",
    "version": 3
   },
   "file_extension": ".py",
   "mimetype": "text/x-python",
   "name": "python",
   "nbconvert_exporter": "python",
   "pygments_lexer": "ipython3",
   "version": "3.10.0"
  }
 },
 "nbformat": 4,
 "nbformat_minor": 2
}
