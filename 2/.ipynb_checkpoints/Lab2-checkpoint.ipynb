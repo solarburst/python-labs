{
 "cells": [
  {
   "cell_type": "code",
   "execution_count": 3,
   "metadata": {},
   "outputs": [
    {
     "name": "stdout",
     "output_type": "stream",
     "text": [
      "a    1\n",
      "b    2\n",
      "c    3\n",
      "d    4\n",
      "e    5\n",
      "dtype: int64\n"
     ]
    }
   ],
   "source": [
    "import pandas\n",
    "import numpy as np\n",
    "\n",
    "# 1. Создайте объект Series, значениями которого являются целые числа от 1 до 5, а индексами символы 'a', 'b', 'c', 'd', 'e'.\n",
    "array = [1, 2, 3, 4, 5]\n",
    "indexes = ['a', 'b', 'c', 'd', 'e']\n",
    "result = pandas.Series(array, indexes)\n",
    "print(result)"
   ]
  },
  {
   "cell_type": "code",
   "execution_count": 4,
   "metadata": {},
   "outputs": [
    {
     "name": "stdout",
     "output_type": "stream",
     "text": [
      "4\n"
     ]
    }
   ],
   "source": [
    "# 2. С помощью обращения по явному индексу получите значение 4.\n",
    "print(result['d'])"
   ]
  },
  {
   "cell_type": "code",
   "execution_count": 5,
   "metadata": {},
   "outputs": [
    {
     "name": "stdout",
     "output_type": "stream",
     "text": [
      "2\n"
     ]
    }
   ],
   "source": [
    "# 3. С помощью обращения по неявному индексу получите значение 2.\n",
    "print(result[1])"
   ]
  },
  {
   "cell_type": "code",
   "execution_count": 9,
   "metadata": {},
   "outputs": [
    {
     "name": "stdout",
     "output_type": "stream",
     "text": [
      "a    1\n",
      "b    2\n",
      "c    3\n",
      "d    4\n",
      "e    5\n",
      "f    6\n",
      "dtype: int64\n"
     ]
    }
   ],
   "source": [
    "# 4. Добавьте в серию новый элемент.\n",
    "result['f'] = 6\n",
    "print(result)"
   ]
  },
  {
   "cell_type": "code",
   "execution_count": 9,
   "metadata": {},
   "outputs": [
    {
     "name": "stdout",
     "output_type": "stream",
     "text": [
      "c    3\n",
      "d    4\n",
      "e    5\n",
      "dtype: int64\n"
     ]
    }
   ],
   "source": [
    "# 5. Используя операцию среза, получите значения 3, 4, 5.\n",
    "print(result['c':'e'])"
   ]
  },
  {
   "cell_type": "code",
   "execution_count": 10,
   "metadata": {},
   "outputs": [
    {
     "name": "stdout",
     "output_type": "stream",
     "text": [
      "   col1  col2\n",
      "0   1.0   2.0\n",
      "1   5.0   3.0\n",
      "2   3.7   4.8\n"
     ]
    }
   ],
   "source": [
    "# 6. Создайте объект DataFrame из списка [[1, 2], [5, 3], [3.7, 4.8]] с именами столбцов col1 и col2.\n",
    "dataFrame = pandas.DataFrame([[1, 2], [5, 3], [3.7, 4.8]], columns = ['col1', 'col2'])\n",
    "print(dataFrame)"
   ]
  },
  {
   "cell_type": "code",
   "execution_count": 11,
   "metadata": {},
   "outputs": [
    {
     "name": "stdout",
     "output_type": "stream",
     "text": [
      "3.7\n"
     ]
    }
   ],
   "source": [
    "# 7. Используя операцию индексации, получите элемент 3.7.\n",
    "print(dataFrame['col1'][2])"
   ]
  },
  {
   "cell_type": "code",
   "execution_count": 12,
   "metadata": {},
   "outputs": [
    {
     "name": "stdout",
     "output_type": "stream",
     "text": [
      "   col1  col2\n",
      "0   1.0   2.0\n",
      "1   5.0   9.0\n",
      "2   3.7   4.8\n"
     ]
    }
   ],
   "source": [
    "# 8. Измените элемент 3 на 9.\n",
    "dataFrame['col2'][1] = 9\n",
    "print(dataFrame)"
   ]
  },
  {
   "cell_type": "code",
   "execution_count": 13,
   "metadata": {},
   "outputs": [
    {
     "name": "stdout",
     "output_type": "stream",
     "text": [
      "   col1  col2\n",
      "1   5.0   9.0\n",
      "2   3.7   4.8\n"
     ]
    }
   ],
   "source": [
    "# 9. Используя операцию среза, получите строки с индексами 1 и 2.\n",
    "print(dataFrame[1:3])"
   ]
  },
  {
   "cell_type": "code",
   "execution_count": 14,
   "metadata": {},
   "outputs": [
    {
     "name": "stdout",
     "output_type": "stream",
     "text": [
      "   col1  col2   col3\n",
      "0   1.0   2.0   2.00\n",
      "1   5.0   9.0  45.00\n",
      "2   3.7   4.8  17.76\n"
     ]
    }
   ],
   "source": [
    "# 10. Добавьте столбец col3, значения которого – результат поэлементного перемножения col1 и col2.\n",
    "dataFrame['col3'] = dataFrame['col1'] * dataFrame['col2']\n",
    "print(dataFrame)"
   ]
  },
  {
   "cell_type": "code",
   "execution_count": null,
   "metadata": {},
   "outputs": [],
   "source": []
  }
 ],
 "metadata": {
  "interpreter": {
   "hash": "a918344c2c5de05962721a922f140764078d0f9a4e6d92bec9eaa57e1999cb18"
  },
  "kernelspec": {
   "display_name": "Python 3 (ipykernel)",
   "language": "python",
   "name": "python3"
  },
  "language_info": {
   "codemirror_mode": {
    "name": "ipython",
    "version": 3
   },
   "file_extension": ".py",
   "mimetype": "text/x-python",
   "name": "python",
   "nbconvert_exporter": "python",
   "pygments_lexer": "ipython3",
   "version": "3.10.0"
  }
 },
 "nbformat": 4,
 "nbformat_minor": 2
}
