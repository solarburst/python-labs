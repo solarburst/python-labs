{
 "cells": [
  {
   "cell_type": "markdown",
   "metadata": {},
   "source": [
    "Задание: проверить, отличается ли время ожидания такси и\n",
    "продолжительность поездок по этим городам?\n"
   ]
  },
  {
   "cell_type": "markdown",
   "metadata": {},
   "source": [
    "1) Проверим время ожидания такси в Мехико. Мы предполагаем, что среднее\n",
    "время ожидания – это десять минут. Для проверки одновыборочного критерия\n",
    "мы воспользуемся методом ttest_1samp из stats. Необходимо передать в\n",
    "функцию выборку и то значение среднего, которое мы ожидаем увидеть.\n",
    "Результатом работы этого метода будет некоторый класс, который возвращает\n",
    "два параметра: statistic – t-статистика, и рассчитанный p-value.\n",
    "- Каким получился p-value? Принимаем или отвергаем H0?"
   ]
  },
  {
   "cell_type": "code",
   "execution_count": 1,
   "metadata": {},
   "outputs": [
    {
     "data": {
      "text/html": [
       "<div>\n",
       "<style scoped>\n",
       "    .dataframe tbody tr th:only-of-type {\n",
       "        vertical-align: middle;\n",
       "    }\n",
       "\n",
       "    .dataframe tbody tr th {\n",
       "        vertical-align: top;\n",
       "    }\n",
       "\n",
       "    .dataframe thead th {\n",
       "        text-align: right;\n",
       "    }\n",
       "</style>\n",
       "<table border=\"1\" class=\"dataframe\">\n",
       "  <thead>\n",
       "    <tr style=\"text-align: right;\">\n",
       "      <th></th>\n",
       "      <th>id</th>\n",
       "      <th>vendor_id</th>\n",
       "      <th>pickup_datetime</th>\n",
       "      <th>dropoff_datetime</th>\n",
       "      <th>pickup_longitude</th>\n",
       "      <th>pickup_latitude</th>\n",
       "      <th>dropoff_longitude</th>\n",
       "      <th>dropoff_latitude</th>\n",
       "      <th>store_and_fwd_flag</th>\n",
       "      <th>trip_duration</th>\n",
       "      <th>dist_meters</th>\n",
       "      <th>wait_sec</th>\n",
       "    </tr>\n",
       "  </thead>\n",
       "  <tbody>\n",
       "    <tr>\n",
       "      <th>0</th>\n",
       "      <td>1</td>\n",
       "      <td>México DF Taxi de Sitio</td>\n",
       "      <td>2016-09-16 07:14:12</td>\n",
       "      <td>2016-09-18 04:41:40</td>\n",
       "      <td>-99.097369</td>\n",
       "      <td>19.416874</td>\n",
       "      <td>-99.202729</td>\n",
       "      <td>19.430353</td>\n",
       "      <td>N</td>\n",
       "      <td>120449</td>\n",
       "      <td>12373</td>\n",
       "      <td>242</td>\n",
       "    </tr>\n",
       "    <tr>\n",
       "      <th>1</th>\n",
       "      <td>2</td>\n",
       "      <td>México DF Taxi Libre</td>\n",
       "      <td>2016-09-18 06:16:33</td>\n",
       "      <td>2016-09-18 10:11:43</td>\n",
       "      <td>-99.297148</td>\n",
       "      <td>19.322128</td>\n",
       "      <td>-99.289949</td>\n",
       "      <td>19.326538</td>\n",
       "      <td>N</td>\n",
       "      <td>14110</td>\n",
       "      <td>1700</td>\n",
       "      <td>461</td>\n",
       "    </tr>\n",
       "    <tr>\n",
       "      <th>2</th>\n",
       "      <td>3</td>\n",
       "      <td>México DF Taxi Libre</td>\n",
       "      <td>2016-09-18 10:11:50</td>\n",
       "      <td>2016-09-18 10:23:11</td>\n",
       "      <td>-99.289603</td>\n",
       "      <td>19.326263</td>\n",
       "      <td>-99.271874</td>\n",
       "      <td>19.328530</td>\n",
       "      <td>N</td>\n",
       "      <td>681</td>\n",
       "      <td>2848</td>\n",
       "      <td>129</td>\n",
       "    </tr>\n",
       "    <tr>\n",
       "      <th>3</th>\n",
       "      <td>4</td>\n",
       "      <td>México DF Taxi Libre</td>\n",
       "      <td>2016-09-18 10:23:38</td>\n",
       "      <td>2016-09-18 10:30:53</td>\n",
       "      <td>-99.271161</td>\n",
       "      <td>19.328875</td>\n",
       "      <td>-99.279900</td>\n",
       "      <td>19.326256</td>\n",
       "      <td>N</td>\n",
       "      <td>436</td>\n",
       "      <td>1409</td>\n",
       "      <td>106</td>\n",
       "    </tr>\n",
       "    <tr>\n",
       "      <th>4</th>\n",
       "      <td>5</td>\n",
       "      <td>México DF Taxi Libre</td>\n",
       "      <td>2016-09-18 10:44:18</td>\n",
       "      <td>2016-09-18 10:51:40</td>\n",
       "      <td>-99.282761</td>\n",
       "      <td>19.326944</td>\n",
       "      <td>-99.291705</td>\n",
       "      <td>19.322754</td>\n",
       "      <td>N</td>\n",
       "      <td>442</td>\n",
       "      <td>1567</td>\n",
       "      <td>85</td>\n",
       "    </tr>\n",
       "    <tr>\n",
       "      <th>...</th>\n",
       "      <td>...</td>\n",
       "      <td>...</td>\n",
       "      <td>...</td>\n",
       "      <td>...</td>\n",
       "      <td>...</td>\n",
       "      <td>...</td>\n",
       "      <td>...</td>\n",
       "      <td>...</td>\n",
       "      <td>...</td>\n",
       "      <td>...</td>\n",
       "      <td>...</td>\n",
       "      <td>...</td>\n",
       "    </tr>\n",
       "    <tr>\n",
       "      <th>12689</th>\n",
       "      <td>12690</td>\n",
       "      <td>México DF Radio Taxi</td>\n",
       "      <td>2016-10-27 09:10:05</td>\n",
       "      <td>2016-10-27 10:14:10</td>\n",
       "      <td>-99.180762</td>\n",
       "      <td>19.369210</td>\n",
       "      <td>-99.180013</td>\n",
       "      <td>19.370270</td>\n",
       "      <td>N</td>\n",
       "      <td>3846</td>\n",
       "      <td>8261</td>\n",
       "      <td>427</td>\n",
       "    </tr>\n",
       "    <tr>\n",
       "      <th>12690</th>\n",
       "      <td>12691</td>\n",
       "      <td>México DF Taxi de Sitio</td>\n",
       "      <td>2016-10-27 10:53:15</td>\n",
       "      <td>2016-10-27 11:01:53</td>\n",
       "      <td>-99.059582</td>\n",
       "      <td>19.307219</td>\n",
       "      <td>-99.065798</td>\n",
       "      <td>19.306472</td>\n",
       "      <td>N</td>\n",
       "      <td>518</td>\n",
       "      <td>2498</td>\n",
       "      <td>115</td>\n",
       "    </tr>\n",
       "    <tr>\n",
       "      <th>12691</th>\n",
       "      <td>12692</td>\n",
       "      <td>México DF Taxi Libre</td>\n",
       "      <td>2016-10-27 11:19:44</td>\n",
       "      <td>2016-10-27 11:38:35</td>\n",
       "      <td>-99.170637</td>\n",
       "      <td>19.283637</td>\n",
       "      <td>-99.178194</td>\n",
       "      <td>19.280982</td>\n",
       "      <td>N</td>\n",
       "      <td>1131</td>\n",
       "      <td>6051</td>\n",
       "      <td>228</td>\n",
       "    </tr>\n",
       "    <tr>\n",
       "      <th>12692</th>\n",
       "      <td>12693</td>\n",
       "      <td>México DF Taxi de Sitio</td>\n",
       "      <td>2016-10-28 06:49:41</td>\n",
       "      <td>2016-10-28 06:51:25</td>\n",
       "      <td>-99.194384</td>\n",
       "      <td>19.396768</td>\n",
       "      <td>-99.194622</td>\n",
       "      <td>19.396717</td>\n",
       "      <td>N</td>\n",
       "      <td>104</td>\n",
       "      <td>49</td>\n",
       "      <td>96</td>\n",
       "    </tr>\n",
       "    <tr>\n",
       "      <th>12693</th>\n",
       "      <td>12694</td>\n",
       "      <td>México DF Radio Taxi</td>\n",
       "      <td>2016-10-27 10:26:38</td>\n",
       "      <td>2016-10-28 07:10:21</td>\n",
       "      <td>-99.180135</td>\n",
       "      <td>19.369919</td>\n",
       "      <td>-99.180551</td>\n",
       "      <td>19.372276</td>\n",
       "      <td>N</td>\n",
       "      <td>31424</td>\n",
       "      <td>3448</td>\n",
       "      <td>217</td>\n",
       "    </tr>\n",
       "  </tbody>\n",
       "</table>\n",
       "<p>12694 rows × 12 columns</p>\n",
       "</div>"
      ],
      "text/plain": [
       "          id                vendor_id      pickup_datetime  \\\n",
       "0          1  México DF Taxi de Sitio  2016-09-16 07:14:12   \n",
       "1          2     México DF Taxi Libre  2016-09-18 06:16:33   \n",
       "2          3     México DF Taxi Libre  2016-09-18 10:11:50   \n",
       "3          4     México DF Taxi Libre  2016-09-18 10:23:38   \n",
       "4          5     México DF Taxi Libre  2016-09-18 10:44:18   \n",
       "...      ...                      ...                  ...   \n",
       "12689  12690     México DF Radio Taxi  2016-10-27 09:10:05   \n",
       "12690  12691  México DF Taxi de Sitio  2016-10-27 10:53:15   \n",
       "12691  12692     México DF Taxi Libre  2016-10-27 11:19:44   \n",
       "12692  12693  México DF Taxi de Sitio  2016-10-28 06:49:41   \n",
       "12693  12694     México DF Radio Taxi  2016-10-27 10:26:38   \n",
       "\n",
       "          dropoff_datetime  pickup_longitude  pickup_latitude  \\\n",
       "0      2016-09-18 04:41:40        -99.097369        19.416874   \n",
       "1      2016-09-18 10:11:43        -99.297148        19.322128   \n",
       "2      2016-09-18 10:23:11        -99.289603        19.326263   \n",
       "3      2016-09-18 10:30:53        -99.271161        19.328875   \n",
       "4      2016-09-18 10:51:40        -99.282761        19.326944   \n",
       "...                    ...               ...              ...   \n",
       "12689  2016-10-27 10:14:10        -99.180762        19.369210   \n",
       "12690  2016-10-27 11:01:53        -99.059582        19.307219   \n",
       "12691  2016-10-27 11:38:35        -99.170637        19.283637   \n",
       "12692  2016-10-28 06:51:25        -99.194384        19.396768   \n",
       "12693  2016-10-28 07:10:21        -99.180135        19.369919   \n",
       "\n",
       "       dropoff_longitude  dropoff_latitude store_and_fwd_flag  trip_duration  \\\n",
       "0             -99.202729         19.430353                  N         120449   \n",
       "1             -99.289949         19.326538                  N          14110   \n",
       "2             -99.271874         19.328530                  N            681   \n",
       "3             -99.279900         19.326256                  N            436   \n",
       "4             -99.291705         19.322754                  N            442   \n",
       "...                  ...               ...                ...            ...   \n",
       "12689         -99.180013         19.370270                  N           3846   \n",
       "12690         -99.065798         19.306472                  N            518   \n",
       "12691         -99.178194         19.280982                  N           1131   \n",
       "12692         -99.194622         19.396717                  N            104   \n",
       "12693         -99.180551         19.372276                  N          31424   \n",
       "\n",
       "       dist_meters  wait_sec  \n",
       "0            12373       242  \n",
       "1             1700       461  \n",
       "2             2848       129  \n",
       "3             1409       106  \n",
       "4             1567        85  \n",
       "...            ...       ...  \n",
       "12689         8261       427  \n",
       "12690         2498       115  \n",
       "12691         6051       228  \n",
       "12692           49        96  \n",
       "12693         3448       217  \n",
       "\n",
       "[12694 rows x 12 columns]"
      ]
     },
     "execution_count": 1,
     "metadata": {},
     "output_type": "execute_result"
    }
   ],
   "source": [
    "from scipy import stats\n",
    "import pandas as ps\n",
    "import numpy as np\n",
    "\n",
    "bog = ps.read_csv('bog_clean.csv') \n",
    "mex = ps.read_csv('mex_clean.csv')\n",
    "mex"
   ]
  },
  {
   "cell_type": "code",
   "execution_count": 3,
   "metadata": {},
   "outputs": [
    {
     "data": {
      "text/plain": [
       "Ttest_1sampResult(statistic=2.2548048375648806, pvalue=0.02416255063784318)"
      ]
     },
     "execution_count": 3,
     "metadata": {},
     "output_type": "execute_result"
    }
   ],
   "source": [
    "stats.ttest_1samp(mex['wait_sec'], popmean = 600)"
   ]
  },
  {
   "cell_type": "markdown",
   "metadata": {},
   "source": [
    "- p − value < α \n",
    "- p − value > α\n",
    "- α = 0.05\n",
    "\n",
    "Вывод: H0 отвергаем: p-value < 0.05. Тогда среднее время ожидание меньше 10 мин."
   ]
  },
  {
   "cell_type": "markdown",
   "metadata": {},
   "source": [
    "2) Теперь сравним время поездки по Мехико и по Боготе. Мы предполагаем,\n",
    "что средняя продолжительность поездок по двум городам одинаковая. Мы\n",
    "можем подсчитать также t-статистику. Для этого воспользуемся методом\n",
    "ttest_ind.\n",
    "- Какой можно сделать вывод? Отличается ли продолжительность поездок?\n",
    "Аналогично самостоятельно проверьте отличается ли время ожидания такси\n",
    "в Мехико от времени ожидания в Боготе."
   ]
  },
  {
   "cell_type": "code",
   "execution_count": 4,
   "metadata": {},
   "outputs": [
    {
     "data": {
      "text/plain": [
       "Ttest_indResult(statistic=10.479475759505036, pvalue=1.3031054192553683e-25)"
      ]
     },
     "execution_count": 4,
     "metadata": {},
     "output_type": "execute_result"
    }
   ],
   "source": [
    "stats.ttest_ind(bog['trip_duration'], mex['trip_duration'])"
   ]
  },
  {
   "cell_type": "markdown",
   "metadata": {},
   "source": [
    "Вывод: H1 принимаем: p-value > 0.05."
   ]
  },
  {
   "cell_type": "code",
   "execution_count": 8,
   "metadata": {},
   "outputs": [
    {
     "data": {
      "text/plain": [
       "Ttest_indResult(statistic=-0.1782077799403465, pvalue=0.8585620912334861)"
      ]
     },
     "execution_count": 8,
     "metadata": {},
     "output_type": "execute_result"
    }
   ],
   "source": [
    "stats.ttest_ind(bog['wait_sec'], mex['wait_sec'])\n"
   ]
  },
  {
   "cell_type": "markdown",
   "metadata": {},
   "source": [
    "> Какой можно сделать вывод? Отличается ли продолжительность поездок?\n",
    "\n",
    "Вывод: H1 принимаем: p-valye > 0.05. Получается, продолжитель поездок отличается. "
   ]
  }
 ],
 "metadata": {
  "interpreter": {
   "hash": "3b6c1224657c578b9d3e2b49ca831d7f85bea0417468944a724420177cb04cf0"
  },
  "kernelspec": {
   "display_name": "Python 3 (ipykernel)",
   "language": "python",
   "name": "python3"
  },
  "language_info": {
   "codemirror_mode": {
    "name": "ipython",
    "version": 3
   },
   "file_extension": ".py",
   "mimetype": "text/x-python",
   "name": "python",
   "nbconvert_exporter": "python",
   "pygments_lexer": "ipython3",
   "version": "3.10.0"
  }
 },
 "nbformat": 4,
 "nbformat_minor": 2
}
