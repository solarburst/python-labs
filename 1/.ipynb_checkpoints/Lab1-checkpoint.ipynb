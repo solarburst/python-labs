{
 "cells": [
  {
   "cell_type": "code",
   "execution_count": 9,
   "metadata": {},
   "outputs": [
    {
     "name": "stdout",
     "output_type": "stream",
     "text": [
      "[[3 3 3 3]\n",
      " [3 3 3 3]\n",
      " [3 3 3 3]]\n"
     ]
    }
   ],
   "source": [
    "import numpy as np\n",
    "\n",
    "#1. Создайте массив arr_1 размером 3х4, все элементы которого равны 3.\n",
    "arr_1 = np.full((3, 4), 3)\n",
    "print(arr_1)"
   ]
  },
  {
   "cell_type": "code",
   "execution_count": 10,
   "metadata": {},
   "outputs": [
    {
     "name": "stdout",
     "output_type": "stream",
     "text": [
      "[[3 3 2 9]\n",
      " [7 3 0 5]]\n"
     ]
    }
   ],
   "source": [
    "#2. Создайте массив arr_2, заполненный случайными целыми числами от 0 до 9, размером 2х4.\n",
    "arr_2 = np.random.randint(0, 10, (2, 4))\n",
    "print(arr_2)\n"
   ]
  },
  {
   "cell_type": "code",
   "execution_count": 11,
   "metadata": {},
   "outputs": [
    {
     "name": "stdout",
     "output_type": "stream",
     "text": [
      "Количество элементов в массиве arr_1:  12\n",
      "Количество элементов в массиве arr_2:  8\n"
     ]
    }
   ],
   "source": [
    "#3. Выведите на экран количество элементов в созданных массивах arr_1 и arr_2.\n",
    "print(\"Количество элементов в массиве arr_1: \", arr_1.size)\n",
    "print(\"Количество элементов в массиве arr_2: \", arr_2.size)"
   ]
  },
  {
   "cell_type": "code",
   "execution_count": 12,
   "metadata": {},
   "outputs": [
    {
     "name": "stdout",
     "output_type": "stream",
     "text": [
      "[[3 3 3 3]\n",
      " [3 3 3 3]\n",
      " [3 3 3 3]\n",
      " [3 3 2 9]\n",
      " [7 3 0 5]]\n"
     ]
    }
   ],
   "source": [
    "#4. Соедините массивы arr_1 и arr_2 по нулевой оси.\n",
    "union = np.row_stack([arr_1, arr_2])\n",
    "print(union)"
   ]
  },
  {
   "cell_type": "code",
   "execution_count": 13,
   "metadata": {},
   "outputs": [
    {
     "name": "stdout",
     "output_type": "stream",
     "text": [
      "[1 8 6 5 8 3]\n"
     ]
    }
   ],
   "source": [
    "#5. Создайте массив arr_3 из кортежа чисел (1, 8, 6, 5, 8, 3) с помощью функции np.array().\n",
    "tuple = (1, 8, 6, 5, 8, 3)\n",
    "arr_3 = np.array(tuple)\n",
    "print(arr_3)"
   ]
  },
  {
   "cell_type": "code",
   "execution_count": 14,
   "metadata": {},
   "outputs": [
    {
     "name": "stdout",
     "output_type": "stream",
     "text": [
      "[4, 25, 19, 16, 25, 10]\n"
     ]
    }
   ],
   "source": [
    "#6. Умножьте каждый элемент массива arr_3 на число 3 и прибавьте к каждому элементу 1. Результат запишите в новый массив arr_4.\n",
    "arr_4 = [i * 3 + 1 for i in arr_3]\n",
    "print(arr_4)"
   ]
  },
  {
   "cell_type": "code",
   "execution_count": 17,
   "metadata": {},
   "outputs": [
    {
     "name": "stdout",
     "output_type": "stream",
     "text": [
      "[[1 8 6]\n",
      " [5 8 3]]\n"
     ]
    }
   ],
   "source": [
    "#7. Преобразуйте масcив arr_3 к двумерному массиву 2х3. Результат запишите в массив arr_5.\n",
    "arr_5 = np.reshape(arr_3, (2, 3))\n",
    "print(arr_5)"
   ]
  },
  {
   "cell_type": "code",
   "execution_count": 19,
   "metadata": {},
   "outputs": [
    {
     "name": "stdout",
     "output_type": "stream",
     "text": [
      "[1 3]\n"
     ]
    }
   ],
   "source": [
    "#8. Определите минимальные элементы массива arr_5 вдоль первой оси.\n",
    "print(np.amin(arr_5, axis = 1))"
   ]
  },
  {
   "cell_type": "code",
   "execution_count": 20,
   "metadata": {},
   "outputs": [
    {
     "name": "stdout",
     "output_type": "stream",
     "text": [
      "5.166666666666667\n"
     ]
    }
   ],
   "source": [
    "#9. Вычислите среднее арифметическое всех элементов массива arr_5.\n",
    "print(np.average(arr_5))"
   ]
  },
  {
   "cell_type": "code",
   "execution_count": 22,
   "metadata": {},
   "outputs": [
    {
     "name": "stdout",
     "output_type": "stream",
     "text": [
      "[ 0  1  4  9 16 25 36 49 64 81]\n"
     ]
    }
   ],
   "source": [
    "#10. Создайте массив arr_6, состоящий из квадратов чисел от 0 до 10.\n",
    "arr_6 = np.array([i * i for i in range(10)])\n",
    "print(arr_6)"
   ]
  },
  {
   "cell_type": "code",
   "execution_count": 11,
   "metadata": {},
   "outputs": [
    {
     "name": "stdout",
     "output_type": "stream",
     "text": [
      "[ 0  4 16 36 64]\n"
     ]
    }
   ],
   "source": [
    "#11. Выведите каждый второй элемент массива arr_6.\n",
    "print(arr_6[::2])"
   ]
  },
  {
   "cell_type": "code",
   "execution_count": 12,
   "metadata": {},
   "outputs": [
    {
     "name": "stdout",
     "output_type": "stream",
     "text": [
      "[81 64 49 36 25 16  9  4  1  0]\n"
     ]
    }
   ],
   "source": [
    "#12. Выведите элементы массива arr_6 в обратном порядке.\n",
    "print(np.flip(arr_6))"
   ]
  },
  {
   "cell_type": "code",
   "execution_count": 13,
   "metadata": {},
   "outputs": [
    {
     "name": "stdout",
     "output_type": "stream",
     "text": [
      "[ 2  1  2  9  2 25  2 49  2 81]\n"
     ]
    }
   ],
   "source": [
    "#13. Каждому второму элементу массива arr_6 присвойте значение 2.\n",
    "arr_6[::2] = 2\n",
    "print(arr_6)"
   ]
  },
  {
   "cell_type": "code",
   "execution_count": 25,
   "metadata": {},
   "outputs": [
    {
     "name": "stdout",
     "output_type": "stream",
     "text": [
      "True\n"
     ]
    }
   ],
   "source": [
    "#14. Проверьте, есть ли в массиве arr_6 значение 49.\n",
    "condition = (arr_6 == 49)\n",
    "print(bool(np.extract(condition, arr_6)))"
   ]
  },
  {
   "cell_type": "code",
   "execution_count": 27,
   "metadata": {},
   "outputs": [
    {
     "name": "stdout",
     "output_type": "stream",
     "text": [
      "[[-20 -45  81]\n",
      " [-18  89  20]\n",
      " [ 13  53 -84]]\n",
      "[-20 -45 -18 -84]\n"
     ]
    }
   ],
   "source": [
    "#15. Создайте двумерный массив А, состоящий из положительных и отрицательных чисел. Из массива A выберите все отрицательные элементы и запишите их в одномерный массив B.\n",
    "A = np.random.randint(-100, 100, (3, 3))\n",
    "print(A)\n",
    "B = np.extract(A < 0, A)\n",
    "print(B)"
   ]
  },
  {
   "cell_type": "code",
   "execution_count": null,
   "metadata": {},
   "outputs": [],
   "source": []
  }
 ],
 "metadata": {
  "interpreter": {
   "hash": "a918344c2c5de05962721a922f140764078d0f9a4e6d92bec9eaa57e1999cb18"
  },
  "kernelspec": {
   "display_name": "Python 3 (ipykernel)",
   "language": "python",
   "name": "python3"
  },
  "language_info": {
   "codemirror_mode": {
    "name": "ipython",
    "version": 3
   },
   "file_extension": ".py",
   "mimetype": "text/x-python",
   "name": "python",
   "nbconvert_exporter": "python",
   "pygments_lexer": "ipython3",
   "version": "3.10.0"
  }
 },
 "nbformat": 4,
 "nbformat_minor": 2
}
